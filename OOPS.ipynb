{
 "cells": [
  {
   "cell_type": "code",
   "execution_count": null,
   "id": "3109aa67",
   "metadata": {},
   "outputs": [
    {
     "name": "stdout",
     "output_type": "stream",
     "text": [
      "Started executing the constructor\n",
      "Finished executing the constructor\n"
     ]
    }
   ],
   "source": [
    "# Class\n",
    "class employee:\n",
    "    # Magical method/ Constructor\n",
    "    def __init__(self):\n",
    "        print(\"Started executing the constructor\")\n",
    "\n",
    "        # Attribute/ Property of the class\n",
    "        self.id = 1\n",
    "        self.name = \"Jigar\"\n",
    "        self.salary = 250000\n",
    "        self.designation = \"AI Engineer\"\n",
    "        print(\"Finished executing the constructor\")\n",
    "\n",
    "    def travel(self, destination):\n",
    "        print(f\"The {self.name} is traveling to {destination}\")\n",
    "\n",
    "jigar = employee()\n",
    "\n",
    "        \n",
    "\n"
   ]
  }
 ],
 "metadata": {
  "kernelspec": {
   "display_name": "base",
   "language": "python",
   "name": "python3"
  },
  "language_info": {
   "codemirror_mode": {
    "name": "ipython",
    "version": 3
   },
   "file_extension": ".py",
   "mimetype": "text/x-python",
   "name": "python",
   "nbconvert_exporter": "python",
   "pygments_lexer": "ipython3",
   "version": "3.12.7"
  }
 },
 "nbformat": 4,
 "nbformat_minor": 5
}
